{
 "cells": [
  {
   "cell_type": "code",
   "execution_count": 65,
   "metadata": {},
   "outputs": [
    {
     "name": "stdout",
     "output_type": "stream",
     "text": [
      "11\n"
     ]
    }
   ],
   "source": [
    "import random\n",
    "\n",
    "numbers = random.randint(1,11);\n",
    "\n",
    "print(numbers)"
   ]
  },
  {
   "cell_type": "code",
   "execution_count": 71,
   "metadata": {},
   "outputs": [
    {
     "name": "stdout",
     "output_type": "stream",
     "text": [
      "[10, 8, 3, 4, 6, 9, 5, 2, 1, 7]\n"
     ]
    }
   ],
   "source": [
    "\n",
    "import random\n",
    "\n",
    "seq=[1,2,3,4,5,6,7,8,9,10]\n",
    "\n",
    "random.shuffle(seq)\n",
    "\n",
    "print(seq)"
   ]
  },
  {
   "cell_type": "code",
   "execution_count": 75,
   "metadata": {},
   "outputs": [
    {
     "name": "stdout",
     "output_type": "stream",
     "text": [
      "Random number from the list: 9\n"
     ]
    }
   ],
   "source": [
    "import random\n",
    "\n",
    "numbers = [1, 2, 3, 4, 5, 6, 7, 8, 9, 10]\n",
    "\n",
    "random_number = random.choice(numbers)\n",
    "\n",
    "print(f\"Random number from the list: {random_number}\")"
   ]
  },
  {
   "cell_type": "code",
   "execution_count": 82,
   "metadata": {},
   "outputs": [
    {
     "name": "stdout",
     "output_type": "stream",
     "text": [
      "Random number between 1 and 100: 51\n"
     ]
    }
   ],
   "source": [
    "\n",
    "import random\n",
    "\n",
    "random_number = random.randint(1, 100)\n",
    "\n",
    "print(f\"Random number between 1 and 100: {random_number}\")\n"
   ]
  },
  {
   "cell_type": "code",
   "execution_count": 87,
   "metadata": {},
   "outputs": [
    {
     "name": "stdout",
     "output_type": "stream",
     "text": [
      "Random samples: [2, 9, 1, 5, 8]\n"
     ]
    }
   ],
   "source": [
    "import random\n",
    "\n",
    "numbers = [1, 2, 3, 4, 5, 6, 7, 8, 9, 10]\n",
    "\n",
    "random_samples = random.sample(numbers, 5)\n",
    "\n",
    "print(\"Random samples:\", random_samples)\n"
   ]
  },
  {
   "cell_type": "code",
   "execution_count": 92,
   "metadata": {},
   "outputs": [
    {
     "name": "stdout",
     "output_type": "stream",
     "text": [
      "Random day of the week: Sunday\n"
     ]
    }
   ],
   "source": [
    "import random\n",
    "\n",
    "days = ['Monday', 'Tuesday', 'Wednesday', 'Thursday', 'Friday', 'Saturday', 'Sunday']\n",
    "\n",
    "random_day = random.choice(days)\n",
    "\n",
    "print(\"Random day of the week:\", random_day)"
   ]
  },
  {
   "cell_type": "code",
   "execution_count": 120,
   "metadata": {},
   "outputs": [
    {
     "name": "stdout",
     "output_type": "stream",
     "text": [
      "Dice roll: 5\n"
     ]
    }
   ],
   "source": [
    "\n",
    "import random\n",
    "\n",
    "dice_roll = random.randint(1, 6)\n",
    "\n",
    "print(\"Dice roll:\", dice_roll)"
   ]
  },
  {
   "cell_type": "code",
   "execution_count": 156,
   "metadata": {},
   "outputs": [
    {
     "name": "stdout",
     "output_type": "stream",
     "text": [
      "Coin flip: heads\n"
     ]
    }
   ],
   "source": [
    "# 8. Coin flip: randomly chooses \"heads\" or \"tails\".\n",
    "import random\n",
    "coins = ['heads','tails']\n",
    "coin = random.choice(coins)\n",
    "print(\"Coin flip:\", coin)"
   ]
  },
  {
   "cell_type": "code",
   "execution_count": 161,
   "metadata": {},
   "outputs": [
    {
     "name": "stdout",
     "output_type": "stream",
     "text": [
      "Random number from 1 to 3: 1\n"
     ]
    }
   ],
   "source": [
    "\n",
    "import random\n",
    "\n",
    "user_number = int(input(\"Ingrese un número: \"))\n",
    "\n",
    "random_number = random.randint(1, user_number)\n",
    "\n",
    "print(f\"Random number from 1 to {user_number}: {random_number}\")\n",
    "\n"
   ]
  },
  {
   "cell_type": "code",
   "execution_count": 163,
   "metadata": {},
   "outputs": [
    {
     "name": "stdout",
     "output_type": "stream",
     "text": [
      "You guessed correctly!\n"
     ]
    }
   ],
   "source": [
    "import random\n",
    "\n",
    "random_number = random.randint(1, 10)\n",
    "\n",
    "user_guess = int(input(\"Adivina un número del 1 al 10: \"))\n",
    "\n",
    "if user_guess == random_number:\n",
    "    print(\"You guessed correctly!\")\n",
    "else:\n",
    "    print(f\"You guessed incorrectly. {random_number}.\")\n"
   ]
  }
 ],
 "metadata": {
  "kernelspec": {
   "display_name": "Python 3",
   "language": "python",
   "name": "python3"
  },
  "language_info": {
   "codemirror_mode": {
    "name": "ipython",
    "version": 3
   },
   "file_extension": ".py",
   "mimetype": "text/x-python",
   "name": "python",
   "nbconvert_exporter": "python",
   "pygments_lexer": "ipython3",
   "version": "3.12.0"
  }
 },
 "nbformat": 4,
 "nbformat_minor": 2
}
